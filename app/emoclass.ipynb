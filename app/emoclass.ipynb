{
 "cells": [
  {
   "cell_type": "code",
   "execution_count": 1,
   "metadata": {},
   "outputs": [],
   "source": [
    "# Import packages\n",
    "import pandas as pd\n",
    "\n",
    "from sklearn.linear_model import LogisticRegression\n",
    "from sklearn.feature_extraction.text import CountVectorizer\n",
    "from sklearn.model_selection import train_test_split\n",
    "from sklearn.metrics import accuracy_score\n",
    "from sklearn.pipeline import Pipeline\n",
    "import neattext.functions as nfx"
   ]
  },
  {
   "cell_type": "code",
   "execution_count": 2,
   "metadata": {},
   "outputs": [
    {
     "data": {
      "text/html": [
       "<div>\n",
       "<style scoped>\n",
       "    .dataframe tbody tr th:only-of-type {\n",
       "        vertical-align: middle;\n",
       "    }\n",
       "\n",
       "    .dataframe tbody tr th {\n",
       "        vertical-align: top;\n",
       "    }\n",
       "\n",
       "    .dataframe thead th {\n",
       "        text-align: right;\n",
       "    }\n",
       "</style>\n",
       "<table border=\"1\" class=\"dataframe\">\n",
       "  <thead>\n",
       "    <tr style=\"text-align: right;\">\n",
       "      <th></th>\n",
       "      <th>text</th>\n",
       "      <th>label</th>\n",
       "    </tr>\n",
       "  </thead>\n",
       "  <tbody>\n",
       "    <tr>\n",
       "      <th>0</th>\n",
       "      <td>homegirl baby funeral hate funerals shows blessed</td>\n",
       "      <td>sadness</td>\n",
       "    </tr>\n",
       "    <tr>\n",
       "      <th>1</th>\n",
       "      <td>babe hugggzzz babe naamazed babe despite nega ...</td>\n",
       "      <td>happiness</td>\n",
       "    </tr>\n",
       "    <tr>\n",
       "      <th>2</th>\n",
       "      <td>couldnt wait live missing wasnt painful enuf s...</td>\n",
       "      <td>sadness</td>\n",
       "    </tr>\n",
       "    <tr>\n",
       "      <th>3</th>\n",
       "      <td>maken stop moment hele project ziet zitten der...</td>\n",
       "      <td>surprise</td>\n",
       "    </tr>\n",
       "    <tr>\n",
       "      <th>4</th>\n",
       "      <td>krijg cadeautje tweep melike</td>\n",
       "      <td>surprise</td>\n",
       "    </tr>\n",
       "  </tbody>\n",
       "</table>\n",
       "</div>"
      ],
      "text/plain": [
       "                                                text      label\n",
       "0  homegirl baby funeral hate funerals shows blessed    sadness\n",
       "1  babe hugggzzz babe naamazed babe despite nega ...  happiness\n",
       "2  couldnt wait live missing wasnt painful enuf s...    sadness\n",
       "3  maken stop moment hele project ziet zitten der...   surprise\n",
       "4                       krijg cadeautje tweep melike   surprise"
      ]
     },
     "execution_count": 2,
     "metadata": {},
     "output_type": "execute_result"
    }
   ],
   "source": [
    "# Read Datasets\n",
    "df = pd.read_csv(\"model-training-dataset.csv\")\n",
    "\n",
    "# Print First 5 Rows\n",
    "df.head()"
   ]
  },
  {
   "cell_type": "code",
   "execution_count": 3,
   "metadata": {},
   "outputs": [],
   "source": [
    "df['label'] = [x if x in ['anger','fear','sadness'] else 'non-negative' for x in df['label']]"
   ]
  },
  {
   "cell_type": "code",
   "execution_count": 4,
   "metadata": {},
   "outputs": [],
   "source": [
    "df.to_csv('negPos_data.csv')"
   ]
  },
  {
   "cell_type": "code",
   "execution_count": 5,
   "metadata": {},
   "outputs": [
    {
     "data": {
      "text/plain": [
       "label\n",
       "non-negative    17432\n",
       "anger            6400\n",
       "fear             6400\n",
       "sadness          6400\n",
       "dtype: int64"
      ]
     },
     "execution_count": 5,
     "metadata": {},
     "output_type": "execute_result"
    }
   ],
   "source": [
    "# Display all count of emotion categories\n",
    "df.value_counts('label')"
   ]
  },
  {
   "cell_type": "code",
   "execution_count": 6,
   "metadata": {},
   "outputs": [
    {
     "name": "stdout",
     "output_type": "stream",
     "text": [
      "non-negative: 47%\n",
      "anger: 17%\n",
      "fear: 17%\n",
      "sadness: 17%\n"
     ]
    }
   ],
   "source": [
    "# Display count of emotion label categories\n",
    "myValues = df.value_counts('label')\n",
    "\n",
    "# Percentage of Distribution\n",
    "sum = 0\n",
    "for i in myValues:\n",
    "    sum = sum + i\n",
    "\n",
    "for i in (myValues.index):\n",
    "    percentage = int((myValues[i] / sum) * 100)\n",
    "    print(f'{i}: {percentage}%')\n"
   ]
  },
  {
   "cell_type": "code",
   "execution_count": 7,
   "metadata": {},
   "outputs": [],
   "source": [
    "# Create Lemmatizer Tokenizer\n",
    "from nltk import word_tokenize\n",
    "from nltk.stem import WordNetLemmatizer\n",
    "\n",
    "# Build a Machine Learning pipeline using sklearn.pipeline package\n",
    "pipe_lr1 = Pipeline(steps=[\n",
    "    ('cv', CountVectorizer(\n",
    "        strip_accents = 'unicode',\n",
    "        stop_words = 'english',\n",
    "        lowercase=True,\n",
    "        max_df=0.5,\n",
    "        min_df = 10)),\n",
    "    ('lr',LogisticRegression(\n",
    "        max_iter=1000))\n",
    "    ])"
   ]
  },
  {
   "cell_type": "code",
   "execution_count": 8,
   "metadata": {},
   "outputs": [],
   "source": [
    "df2 = pd.read_csv('model-test-dataset.csv')\n",
    "df2['label'] = [x if x in ['anger','fear','sadness'] else 'non-negative' for x in df2['label']]\n",
    "df2.to_csv('negPos_test_data.csv')"
   ]
  },
  {
   "cell_type": "code",
   "execution_count": 9,
   "metadata": {},
   "outputs": [],
   "source": [
    "# Separate features and labels (target output)\n",
    "xfeatures = df['text']\n",
    "ylabels = df['label']\n",
    "\n",
    "pipe_lr1.fit(xfeatures,ylabels)\n",
    "\n",
    "# Testing Model's Accuracy at Predicting Values Not From Training/Testing Set\n",
    "test_data = pd.read_csv('negPos_test_data.csv')\n",
    "x_test = test_data['text']\n",
    "y_test = test_data['label']"
   ]
  },
  {
   "cell_type": "code",
   "execution_count": 10,
   "metadata": {},
   "outputs": [
    {
     "name": "stdout",
     "output_type": "stream",
     "text": [
      "Overall Model Score: 89%\n",
      "Model's Accuracy at Detecting non-negative: 92%\n",
      "Model's Accuracy at Detecting sadness: 86%\n",
      "Model's Accuracy at Detecting anger: 84%\n",
      "Model's Accuracy at Detecting fear: 77%\n"
     ]
    }
   ],
   "source": [
    "# List to store predicted emotions\n",
    "predictions = []\n",
    "\n",
    "# For Loop to Predict Each Individual Text Input\n",
    "for i in range(len(test_data)):\n",
    "    r = pipe_lr1.predict([test_data.loc[i,'text']])\n",
    "    predictions.append(r[0])\n",
    "\n",
    "# Add column 'result' to DataFrame\n",
    "test_data['result'] = predictions\n",
    "\n",
    "# Print Overall Model's Accuracy:\n",
    "print(f'Overall Model Score: {int(pipe_lr1.score(x_test,y_test)*100)}%')\n",
    "\n",
    "# Store Individual Emotions Label\n",
    "emotionCount = test_data.value_counts('label')\n",
    "\n",
    "# For Each Emotion Label, Calculate the Accuracy of the Model\n",
    "for emotion in emotionCount.index:\n",
    "    count_correct:int = 0\n",
    "    count_incorrect:int = 0\n",
    "    for i in range(len(test_data)):\n",
    "\n",
    "        if (test_data.loc[i, 'label'] == emotion):\n",
    "            if ((test_data.loc[i, 'label']) == (test_data.loc[i, 'result'])):\n",
    "                count_correct = count_correct + 1\n",
    "            else:\n",
    "                count_incorrect = count_incorrect + 1\n",
    "        else:\n",
    "            continue\n",
    "    \n",
    "    sum:int = count_correct + count_incorrect\n",
    "    accuracy:int = int((count_correct / (count_correct+count_incorrect)) * 100)\n",
    "    print(f\"Model's Accuracy at Detecting {emotion}: {accuracy}%\")"
   ]
  },
  {
   "cell_type": "code",
   "execution_count": 11,
   "metadata": {},
   "outputs": [],
   "source": [
    "import pickle\n",
    "pickle.dump(pipe_lr1, open('negative_emotion_classifier.pkl', 'wb'))"
   ]
  },
  {
   "cell_type": "code",
   "execution_count": null,
   "metadata": {},
   "outputs": [],
   "source": []
  }
 ],
 "metadata": {
  "kernelspec": {
   "display_name": "Python 3 (ipykernel)",
   "language": "python",
   "name": "python3"
  },
  "language_info": {
   "codemirror_mode": {
    "name": "ipython",
    "version": 3
   },
   "file_extension": ".py",
   "mimetype": "text/x-python",
   "name": "python",
   "nbconvert_exporter": "python",
   "pygments_lexer": "ipython3",
   "version": "3.9.13"
  },
  "vscode": {
   "interpreter": {
    "hash": "916dbcbb3f70747c44a77c7bcd40155683ae19c65e1c03b4aa3499c5328201f1"
   }
  }
 },
 "nbformat": 4,
 "nbformat_minor": 2
}
